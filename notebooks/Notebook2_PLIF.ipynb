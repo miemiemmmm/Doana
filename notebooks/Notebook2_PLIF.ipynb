{
 "cells": [
  {
   "cell_type": "markdown",
   "id": "49771684",
   "metadata": {},
   "source": [
    "# Clean up the mol2 file \n",
    "<b style=\"font-size:20px\">With xxxxxx.mol2 as input:<br>\n",
    "It automatically outputs the xxxxxx_clean.mol2 and xxxxxx.sdf;</b>\n",
    "<br>\n",
    "<code><b style=\"font-size:20px\">molfile = \"./PaIVKLkS/PaIVKLkS_SEEDdock.mol2\"  # absolute path</b>\n",
    "<b style=\"color:green;font-size:20px\">Doana.utils.clean_mol2(molfile)</b></code>"
   ]
  },
  {
   "cell_type": "code",
   "execution_count": 2,
   "id": "158d8971",
   "metadata": {
    "scrolled": true
   },
   "outputs": [
    {
     "name": "stdout",
     "output_type": "stream",
     "text": [
      "Running the clean mol2 file function\n"
     ]
    },
    {
     "name": "stderr",
     "output_type": "stream",
     "text": [
      "==============================\n",
      "*** Open Babel Error  in TetStereoToWedgeHash\n",
      "  Failed to set stereochemistry as unable to find an available bond\n"
     ]
    },
    {
     "name": "stdout",
     "output_type": "stream",
     "text": [
      "Found the sdf output;\n"
     ]
    },
    {
     "name": "stderr",
     "output_type": "stream",
     "text": [
      "571 molecules converted\n"
     ]
    },
    {
     "data": {
      "text/plain": [
       "'/home/miemie/Downloads/vina_V00196B6dm9a/all_mols.sdf'"
      ]
     },
     "execution_count": 2,
     "metadata": {},
     "output_type": "execute_result"
    }
   ],
   "source": [
    "import Doana \n",
    "# absolute path\n",
    "molfile = \"/home/miemie/Downloads/vina_V00196B6dm9a/all_mols.mol2\" \n",
    "Doana.utils.clean_mol2(molfile)\n"
   ]
  },
  {
   "cell_type": "markdown",
   "id": "634786da",
   "metadata": {},
   "source": [
    "<h1>PLIF Generator</h1>"
   ]
  },
  {
   "cell_type": "code",
   "execution_count": 3,
   "id": "8f4b04be",
   "metadata": {
    "scrolled": false
   },
   "outputs": [
    {
     "name": "stdout",
     "output_type": "stream",
     "text": [
      "Loading receptor PDB structure: /home/miemie/Downloads/vina_V00196B6dm9a/tmp_Sampling_target.pdb\n"
     ]
    },
    {
     "name": "stderr",
     "output_type": "stream",
     "text": [
      "/home/miemie/miniconda3/envs/prolif/lib/python3.7/site-packages/MDAnalysis/topology/PDBParser.py:315: UserWarning: Element information is missing, elements attribute will not be populated. If needed these can be guessed using MDAnalysis.topology.guessers.\n",
      "  warnings.warn(\"Element information is missing, elements attribute \"\n"
     ]
    },
    {
     "data": {
      "application/vnd.jupyter.widget-view+json": {
       "model_id": "eed8168fcb4e4c5cb5778e35701b5655",
       "version_major": 2,
       "version_minor": 0
      },
      "text/plain": [
       "  0%|          | 0/1 [00:00<?, ?it/s]"
      ]
     },
     "metadata": {},
     "output_type": "display_data"
    },
    {
     "name": "stdout",
     "output_type": "stream",
     "text": [
      "Reference ligand interactions: ligand             UNL1                                              \\\n",
      "protein         ILE38.B     GLY39.B             MET97.B    LEU115.B   \n",
      "interaction Hydrophobic Hydrophobic HBDonor Hydrophobic Hydrophobic   \n",
      "Frame                                                                 \n",
      "0                  True        True    True        True        True   \n",
      "\n",
      "ligand                                                               \\\n",
      "protein        PHE116.B    PRO117.B    ASP118.B            ILE126.C   \n",
      "interaction Hydrophobic Hydrophobic Hydrophobic HBDonor Hydrophobic   \n",
      "Frame                                                                 \n",
      "0                  True        True        True    True        True   \n",
      "\n",
      "ligand                           \n",
      "protein        GLU191.C          \n",
      "interaction Hydrophobic HBDonor  \n",
      "Frame                            \n",
      "0                  True    True  \n",
      "Successfully loaded the reference ligand \n",
      "Will input all molecules\n",
      "571 molecules put to the library supplier (from /home/miemie/Downloads/vina_V00196B6dm9a/all_mols.sdf)\n"
     ]
    },
    {
     "data": {
      "application/vnd.jupyter.widget-view+json": {
       "model_id": "6910e93fdd884fd59d9802c5d0a7b3cc",
       "version_major": 2,
       "version_minor": 0
      },
      "text/plain": [
       "  0%|          | 0/571 [00:00<?, ?it/s]"
      ]
     },
     "metadata": {},
     "output_type": "display_data"
    },
    {
     "data": {
      "application/vnd.jupyter.widget-view+json": {
       "model_id": "9513c33c2f544652a11bda424dbaea51",
       "version_major": 2,
       "version_minor": 0
      },
      "text/plain": [
       "  0%|          | 0/571 [00:00<?, ?it/s]"
      ]
     },
     "metadata": {},
     "output_type": "display_data"
    },
    {
     "name": "stdout",
     "output_type": "stream",
     "text": [
      "Saved the fingerprint to file: /home/miemie/Downloads/vina_V00196B6dm9a/all_mols.pkl\n"
     ]
    }
   ],
   "source": [
    "# import Doana\n",
    "from Doana import analysis\n",
    "\n",
    "parmdic = {\n",
    "  'reflig'     : \"/home/miemie/Downloads/vina_V00196B6dm9a/tmp_Sampling_target.mol2\",\n",
    "  'profile'    : \"/home/miemie/Downloads/vina_V00196B6dm9a/tmp_Sampling_target.pdb\",\n",
    "  \n",
    "  'resultmols' : \"/home/miemie/Downloads/vina_V00196B6dm9a/all_mols.sdf\",\n",
    "  'resultdat'  : \"/home/miemie/Downloads/vina_V00196B6dm9a/all_scores.dat\",\n",
    "  # This should be a new file, new execution will overwrite is file\n",
    "  'outpkl'     : \"/home/miemie/Downloads/vina_V00196B6dm9a/all_mols.pkl\",  \n",
    "\n",
    "  # Should use a python iterable object to define its indexes \n",
    "  'onlymols'   : \"\",\n",
    "  'type': \"vina\"\n",
    "}\n",
    "\n",
    "# Calculate the overlapping index separately. \n",
    "wrapper = analysis.PLIFGen_Dock(parmdic)\n",
    "# Generate main PLIF\n",
    "wrapper.gen() \n",
    "\n",
    "# Generate extra calculations \n",
    "OIdic = wrapper.calc_OI(1.5, printrecords=False)\n",
    "wrapper.savedata()\n"
   ]
  },
  {
   "cell_type": "code",
   "execution_count": null,
   "id": "976592d3",
   "metadata": {},
   "outputs": [],
   "source": [
    "print(dir())"
   ]
  },
  {
   "cell_type": "markdown",
   "id": "4200b646",
   "metadata": {},
   "source": [
    "<h1>PLIF Reader</h1>"
   ]
  },
  {
   "cell_type": "code",
   "execution_count": 5,
   "id": "75036dad",
   "metadata": {
    "scrolled": false
   },
   "outputs": [
    {
     "name": "stdout",
     "output_type": "stream",
     "text": [
      "Data set 1\n",
      "0 ILE38.B_HBDonor 3  | 1 GLY39.B_HBDonor 54  | 2 CYS40.B_HBDonor 3\n",
      "3 GLY41.B_HBDonor 1  | 4 TYR42.B_HBAcceptor 8  | 5 TYR42.B_PiStacking 67\n",
      "6 GLY44.B_HBAcceptor 1  | 7 LEU61.B_HBDonor 1  | 8 GLU62.B_HBDonor 25\n",
      "9 GLU62.B_Cationic 85  | 10 ILE63.B_HBDonor 3  | 11 ILE63.B_HBAcceptor 26\n",
      "12 ARG64.B_HBAcceptor 11  | 13 SER94.B_HBDonor 2  | 14 ASN95.B_HBDonor 2\n",
      "15 ALA96.B_HBDonor 3  | 16 ALA96.B_HBAcceptor 22  | 17 MET97.B_HBAcceptor 10\n",
      "18 PHE114.B_PiStacking 7  | 19 LEU115.B_HBDonor 56  | 20 PHE116.B_HBDonor 18\n",
      "21 ASP118.B_HBDonor 10  | 22 ASP118.B_HBAcceptor 52  | 23 ASP118.B_Cationic 1\n",
      "24 HID120.B_HBDonor 2  | 25 HID120.B_PiStacking 1  | 26 PHE121.B_HBDonor 4\n",
      "27 TRP124.C_HBDonor 8  | 28 ILE126.C_HBAcceptor 7  | 29 THR189.C_HBDonor 8\n",
      "30 GLU190.C_HBDonor 1  | 31 GLU190.C_HBAcceptor 3  | 32 GLU191.C_HBDonor 13\n",
      "33 GLU191.C_HBAcceptor 68  | 34 GLU191.C_Cationic 128  | 35 Rank\t 571\n",
      "36 vina_total\t 571  | 37 vina_inter\t 571  | 38 vina_intra\t 571\n",
      "39 vina_torsion\t 571  | 40 pos_id\t 571  | 41 date\t 571\n",
      "42 source_campaign\t 571  | 43 can_smile\t 571  | 44 OI_avg\t 571\n",
      "45 OI_ref\t 571  | 46 OI_results\t 571  | Data set 2\n",
      "0 ASP37.B_Hydrophobic 9  | 1 ILE38.B_Hydrophobic 301  | 2 GLY39.B_Hydrophobic 567\n",
      "3 CYS40.B_Hydrophobic 246  | 4 GLY41.B_Hydrophobic 533  | 5 TYR42.B_Hydrophobic 324\n",
      "6 LEU45.B_Hydrophobic 5  | 7 LEU61.B_Hydrophobic 30  | 8 GLU62.B_Hydrophobic 349\n",
      "9 ILE63.B_Hydrophobic 382  | 10 ARG64.B_Hydrophobic 186  | 11 VAL67.B_Hydrophobic 35\n",
      "12 SER94.B_Hydrophobic 9  | 13 ASN95.B_Hydrophobic 207  | 14 ALA96.B_Hydrophobic 148\n",
      "15 MET97.B_Hydrophobic 552  | 16 PHE114.B_Hydrophobic 230  | 17 LEU115.B_Hydrophobic 234\n",
      "18 PHE116.B_Hydrophobic 385  | 19 PRO117.B_Hydrophobic 525  | 20 ASP118.B_Hydrophobic 456\n",
      "21 HID120.B_Hydrophobic 64  | 22 PHE121.B_Hydrophobic 62  | 23 TRP124.C_Hydrophobic 77\n",
      "24 ARG125.C_Hydrophobic 166  | 25 ILE126.C_Hydrophobic 484  | 26 LEU131.C_Hydrophobic 4\n",
      "27 TRP157.C_Hydrophobic 1  | 28 THR189.C_Hydrophobic 388  | 29 GLU190.C_Hydrophobic 291\n",
      "30 GLU191.C_Hydrophobic 358  | 31 Rank\t 571  | 32 vina_total\t 571\n",
      "33 vina_inter\t 571  | 34 vina_intra\t 571  | 35 vina_torsion\t 571\n",
      "36 pos_id\t 571  | 37 date\t 571  | 38 source_campaign\t 571\n",
      "39 can_smile\t 571  | 40 OI_avg\t 571  | 41 OI_ref\t 571\n",
      "42 OI_results\t 571  | \n"
     ]
    },
    {
     "data": {
      "image/png": "[encoded data removed]",
      "text/plain": [
       "<Figure size 864x864 with 2 Axes>"
      ]
     },
     "metadata": {},
     "output_type": "display_data"
    },
    {
     "data": {
      "image/png": "[encoded data removed]",
      "text/plain": [
       "<Figure size 720x360 with 1 Axes>"
      ]
     },
     "metadata": {
      "needs_background": "light"
     },
     "output_type": "display_data"
    },
    {
     "data": {
      "image/png": "[encoded data removed]",
      "text/plain": [
       "<Figure size 720x360 with 1 Axes>"
      ]
     },
     "metadata": {
      "needs_background": "light"
     },
     "output_type": "display_data"
    }
   ],
   "source": [
    "from Doana import analysis\n",
    "pklfile = \"/home/miemie/Downloads/vina_V00196B6dm9a/all_mols.pkl\"\n",
    "reader = analysis.PLIFRead_Dock(pklfile)\n",
    "fig, ax  = reader.Docking_prolif(sel_cols=\"top\")\n",
    "\n",
    "reader.show_cols()\n",
    "fig2, ax2, his_N, his_bins, hist_patches = reader.drawHist(reader.fpdata, -10)\n",
    "fig2, ax2, his_N, his_bins, hist_patches = reader.drawHist(reader.fpdata, -3)\n"
   ]
  },
  {
   "cell_type": "code",
   "execution_count": null,
   "id": "a49d674c",
   "metadata": {},
   "outputs": [],
   "source": []
  },
  {
   "cell_type": "markdown",
   "id": "a5e35566",
   "metadata": {},
   "source": [
    "# Filter poses "
   ]
  },
  {
   "cell_type": "code",
   "execution_count": 7,
   "id": "12b9142c",
   "metadata": {
    "scrolled": false
   },
   "outputs": [
    {
     "name": "stdout",
     "output_type": "stream",
     "text": [
      "Selected columns: 31 Rank, 33 seed_vdw, 40 OI_ref\n",
      "Hydrogen Bond Count Selector: 1988 poses are kept\n",
      "Column Value Selector: 1302 poses are kept\n",
      "Column Value Selector: 998 poses are kept\n",
      "Column Value Selector: 563 poses are kept\n",
      "Fingerprint Selector: Using and operator, the poses are kept if they have any of defined fingerprint.\n",
      "Fingerprint Selector: 1743 poses are kept\n",
      "Intersection Operator: Source from 5 datasets, 184 poses are kept\n"
     ]
    },
    {
     "data": {
      "text/plain": [
       "'pos_id in (10174248,10188195,10161910,10154061,10152731,10202830,10150146,10196911,10186711,10197634,10167036,10152297,10150500,10202436,10188610,10194310,10204207,10189330,10186064,10163020,10190585,10187075,10157767,10172284,10202836,10187606,10201522,10157275,10155546,10166850,10167983,10176004,10167234,10204129,10195413,10208038,10169423,10178341,10180217,10152710,10164730,10176940,10162304,10182714,10177663,10182373,10175944,10204957,10202374,10182509,10161800,10163570,10185513,10157625,10197438,10167032,10207936,10173903,10170427,10194773,10194793,10168231,10204585,10207961,10184470,10182214,10205067,10207794,10164376,10204770,10208464,10191660,10156576,10155496,10208233,10175621,10193806,10206821,10175847,10207235,10162929,10163195,10159680,10172969,10173119,10200319,10186796,10172434,10174879,10183313,10157870,10153714,10184213,10159063,10176888,10170419,10170768,10200164,10157375,10182103,10200080,10171815,10155931,10169959,10192372,10202780,10200297,10188133,10183246,10150233,10207734,10153154,10153975,10153356,10179351,10189342,10201073,10153664,10162599,10149966,10176458,10184726,10192444,10156412,10198201,10170784,10194495,10192788,10191690,10170393,10199666,10167656,10178371,10152544,10169418,10187307,10199056,10189243,10165926,10170321,10188296,10182187,10186808,10206378,10170480,10160492,10169438,10194543,10155024,10167518,10163578,10175353,10160863,10149968,10152594,10198185,10171894,10203722,10172991,10163177,10180155,10155814,10189218,10184946,10197786,10161118,10152551,10159944,10157234,10172925,10165211,10164301,10204138,10181130,10206675,10159000,10191889,10175009,10192636,10155378,10168275,10204509,10183720,10169212)'"
      ]
     },
     "execution_count": 7,
     "metadata": {},
     "output_type": "execute_result"
    }
   ],
   "source": [
    "# Date selection reader.fpdata non-hydrophobic interactions, reader.fpdata2 hydrophobic interactions\n",
    "datasel = reader.fpdata\n",
    "\n",
    "# Setup the column indexes\n",
    "score_column = len(datasel.columns)-10; \n",
    "seed_vdw_column = len(datasel.columns)-9; \n",
    "rank_column = len(datasel.columns)-11; \n",
    "OI_avg_column    = len(datasel.columns)-3; \n",
    "OI_ref_column    = len(datasel.columns)-2; \n",
    "print(f\"Selected columns: {rank_column} {datasel.columns[rank_column][0]}, {seed_vdw_column} {datasel.columns[seed_vdw_column][0]}, {OI_ref_column} {datasel.columns[OI_ref_column][0]}\")\n",
    "\n",
    "# Apply filters \n",
    "HBstate  = reader.HBondFilter(\"ge\", 1); \n",
    "Sstate   = reader.colFilter(reader.fpdata, score_column, \"lt\", -20); \n",
    "Rstate   = reader.colFilter(reader.fpdata, rank_column, \"lt\", 1000); \n",
    "OIstate  = reader.colFilter(reader.fpdata, OI_ref_column, \"gt\", 0.7); \n",
    "FPstate  = reader.FPSelectionFilter(reader.fpdata, [0,13,11], operator=\"or\"); \n",
    "\n",
    "# Combine different filters\n",
    "filters_states  = [HBstate, Sstate, Rstate, OIstate, FPstate]; \n",
    "\n",
    "intersec = reader.getIntersection(*filters_states); \n",
    "posids   = reader.getPOSIDByStatus(intersec); \n",
    "reader.getPOSIDQuery(posids); \n",
    "# print(posids)"
   ]
  },
  {
   "cell_type": "code",
   "execution_count": null,
   "id": "f4df71c9",
   "metadata": {},
   "outputs": [],
   "source": []
  }
 ],
 "metadata": {
  "kernelspec": {
   "display_name": "Python 3 (ipykernel)",
   "language": "python",
   "name": "python3"
  },
  "language_info": {
   "codemirror_mode": {
    "name": "ipython",
    "version": 3
   },
   "file_extension": ".py",
   "mimetype": "text/x-python",
   "name": "python",
   "nbconvert_exporter": "python",
   "pygments_lexer": "ipython3",
   "version": "3.7.10"
  }
 },
 "nbformat": 4,
 "nbformat_minor": 5
}
