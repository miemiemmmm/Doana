{
 "cells": [
  {
   "cell_type": "markdown",
   "id": "49771684",
   "metadata": {},
   "source": [
    "# Clean up the mol2 file \n",
    "<b style=\"font-size:20px\">With xxxxxx.mol2 as input:<br>\n",
    "It automatically outputs the xxxxxx_clean.mol2 and xxxxxx.sdf;</b>\n",
    "<br>\n",
    "<code><b style=\"font-size:20px\">molfile = \"./PaIVKLkS/PaIVKLkS_SEEDdock.mol2\"  # absolute path</b>\n",
    "<b style=\"color:green;font-size:20px\">Doana.utils.clean_mol2(molfile)</b></code>"
   ]
  },
  {
   "cell_type": "code",
   "execution_count": 2,
   "id": "0b14b2e6",
   "metadata": {
    "scrolled": true
   },
   "outputs": [
    {
     "name": "stdout",
     "output_type": "stream",
     "text": [
      "Running the clean mol2 file function\n"
     ]
    },
    {
     "name": "stderr",
     "output_type": "stream",
     "text": [
      "==============================\n",
      "*** Open Babel Error  in TetStereoToWedgeHash\n",
      "  Failed to set stereochemistry as unable to find an available bond\n"
     ]
    },
    {
     "name": "stdout",
     "output_type": "stream",
     "text": [
      "Found the sdf output;\n"
     ]
    },
    {
     "name": "stderr",
     "output_type": "stream",
     "text": [
      "571 molecules converted\n"
     ]
    },
    {
     "data": {
      "text/plain": [
       "'/home/miemie/Downloads/vina_V00196B6dm9a/all_mols.sdf'"
      ]
     },
     "execution_count": 2,
     "metadata": {},
     "output_type": "execute_result"
    }
   ],
   "source": [
    "import Doana \n",
    "# absolute path\n",
    "molfile = \"/home/miemie/Downloads/vina_V00196B6dm9a/all_mols.mol2\" \n",
    "Doana.utils.clean_mol2(molfile)\n"
   ]
  },
  {
   "cell_type": "markdown",
   "id": "634786da",
   "metadata": {},
   "source": [
    "<h1>PLIF Generator</h1>"
   ]
  },
  {
   "cell_type": "code",
   "execution_count": 3,
   "id": "8f4b04be",
   "metadata": {
    "scrolled": false
   },
   "outputs": [
    {
     "name": "stdout",
     "output_type": "stream",
     "text": [
      "Loading receptor PDB structure: /home/miemie/storage/WDRed/project_METTL1/Tim_Ruth_docking/Dockings_Tim/SEED1_WfOJXBzX/tmp_Sampling_targetalteredh.pdb\n"
     ]
    },
    {
     "name": "stderr",
     "output_type": "stream",
     "text": [
      "/home/miemie/miniconda3/envs/prolif/lib/python3.7/site-packages/MDAnalysis/topology/PDBParser.py:315: UserWarning: Element information is missing, elements attribute will not be populated. If needed these can be guessed using MDAnalysis.topology.guessers.\n",
      "  warnings.warn(\"Element information is missing, elements attribute \"\n"
     ]
    },
    {
     "data": {
      "application/vnd.jupyter.widget-view+json": {
       "model_id": "a90de7ec6fae4399b43017e75fe55192",
       "version_major": 2,
       "version_minor": 0
      },
      "text/plain": [
       "  0%|          | 0/1 [00:00<?, ?it/s]"
      ]
     },
     "metadata": {},
     "output_type": "display_data"
    },
    {
     "name": "stdout",
     "output_type": "stream",
     "text": [
      "Reference ligand interactions: ligand          UNL1                                                          \\\n",
      "protein      ASP44.A     GLY46.A             CYS47.A     GLY48.A     GLU69.A   \n",
      "interaction Cationic Hydrophobic HBDonor Hydrophobic Hydrophobic Hydrophobic   \n",
      "Frame                                                                          \n",
      "0               True        True    True        True        True        True   \n",
      "\n",
      "ligand                                                  ...              \\\n",
      "protein                 ILE70.A    ARG71.A    SER101.A  ...    LEU122.A   \n",
      "interaction HBDonor Hydrophobic HBAcceptor Hydrophobic  ... Hydrophobic   \n",
      "Frame                                                   ...               \n",
      "0              True        True       True        True  ...        True   \n",
      "\n",
      "ligand                                                               \\\n",
      "protein                PHE123.A    PRO124.A    ASP125.A    PRO126.A   \n",
      "interaction HBDonor Hydrophobic Hydrophobic Hydrophobic Hydrophobic   \n",
      "Frame                                                                 \n",
      "0              True        True        True        True        True   \n",
      "\n",
      "ligand                                                      \n",
      "protein        HID127.A    THR200.A               GLU202.A  \n",
      "interaction Hydrophobic Hydrophobic HBAcceptor Hydrophobic  \n",
      "Frame                                                       \n",
      "0                  True        True       True        True  \n",
      "\n",
      "[1 rows x 24 columns]\n",
      "Successfully loaded the reference ligand \n",
      "Will input all molecules\n",
      "2176 molecules put to the library supplier (from /home/miemie/storage/WDRed/project_METTL1/Tim_Ruth_docking/Dockings_Tim/SEED1_WfOJXBzX/WfOJXBzX.sdf)\n"
     ]
    },
    {
     "data": {
      "application/vnd.jupyter.widget-view+json": {
       "model_id": "bf6a2612f239444a81b7c0cd4e1c290d",
       "version_major": 2,
       "version_minor": 0
      },
      "text/plain": [
       "  0%|          | 0/2176 [00:00<?, ?it/s]"
      ]
     },
     "metadata": {},
     "output_type": "display_data"
    },
    {
     "data": {
      "application/vnd.jupyter.widget-view+json": {
       "model_id": "9f55b5a379fa45308328e95cc97d9853",
       "version_major": 2,
       "version_minor": 0
      },
      "text/plain": [
       "  0%|          | 0/2176 [00:00<?, ?it/s]"
      ]
     },
     "metadata": {},
     "output_type": "display_data"
    },
    {
     "name": "stdout",
     "output_type": "stream",
     "text": [
      "Saved the fingerprint to file: /tmp/test.pkl\n"
     ]
    }
   ],
   "source": [
    "# import Doana\n",
    "from Doana import analysis\n",
    "\n",
    "parmdic = {\n",
    "  'reflig'     : \"/home/miemie/storage/WDRed/project_METTL1/Tim_Ruth_docking/Dockings_Tim/SEED1_WfOJXBzX/tmp_Sampling_target.sdf\",\n",
    "  'profile'    : \"/home/miemie/storage/WDRed/project_METTL1/Tim_Ruth_docking/Dockings_Tim/SEED1_WfOJXBzX/tmp_Sampling_targetalteredh.pdb\",\n",
    "  \n",
    "  'resultmols' : \"/home/miemie/storage/WDRed/project_METTL1/Tim_Ruth_docking/Dockings_Tim/SEED1_WfOJXBzX/WfOJXBzX.sdf\",\n",
    "  'resultdat'  : \"/home/miemie/storage/WDRed/project_METTL1/Tim_Ruth_docking/Dockings_Tim/SEED1_WfOJXBzX/WfOJXBzX.dat\",\n",
    "  # This should be a new file, new execution will overwrite is file\n",
    "  'outpkl'     : \"/tmp/test.pkl\",  \n",
    "\n",
    "  # Should use a python iterable object to define its indexes \n",
    "  'onlymols'   : \"\",\n",
    "  'type': \"seed\"\n",
    "}\n",
    "\n",
    "# Calculate the overlapping index separately. \n",
    "wrapper = analysis.PLIFGen_Dock(parmdic)\n",
    "# Generate main PLIF\n",
    "wrapper.gen() \n",
    "\n",
    "# Generate extra calculations \n",
    "OIdic = wrapper.calc_OI(1.5, printrecords=False)\n",
    "wrapper.savedata()\n"
   ]
  },
  {
   "cell_type": "code",
   "execution_count": null,
   "id": "976592d3",
   "metadata": {},
   "outputs": [],
   "source": []
  },
  {
   "cell_type": "markdown",
   "id": "4200b646",
   "metadata": {},
   "source": [
    "<h1>PLIF Reader</h1>"
   ]
  },
  {
   "cell_type": "code",
   "execution_count": 2,
   "id": "75036dad",
   "metadata": {
    "scrolled": false
   },
   "outputs": [
    {
     "name": "stdout",
     "output_type": "stream",
     "text": [
      "Data set 1\n",
      "0 ILE45.A_HBDonor 1  | 1 GLY46.A_HBDonor 14  | 2 TYR49.A_PiStacking 1\n",
      "3 GLU69.A_HBDonor 82  | 4 GLU69.A_Cationic 8  | 5 ILE70.A_HBAcceptor 19\n",
      "6 ARG71.A_HBDonor 6  | 7 ARG71.A_HBAcceptor 190  | 8 VAL72.A_HBAcceptor 1\n",
      "9 ASN102.A_HBDonor 64  | 10 ASN102.A_HBAcceptor 125  | 11 ALA103.A_HBDonor 4\n",
      "12 ALA103.A_HBAcceptor 75  | 13 LYS105.A_HBAcceptor 3  | 14 LEU122.A_HBDonor 6\n",
      "15 PHE123.A_HBDonor 6  | 16 ASP125.A_HBDonor 13  | 17 ASP125.A_HBAcceptor 117\n",
      "18 PRO126.A_HBDonor 275  | 19 HID127.A_HBDonor 13  | 20 HID127.A_PiStacking 274\n",
      "21 PHE128.A_PiStacking 23  | 22 LYS129.A_HBAcceptor 96  | 23 LYS132.A_HBAcceptor 1\n",
      "24 LYS134.A_HBDonor 45  | 25 LYS134.A_HBAcceptor 7  | 26 TRP135.A_HBAcceptor 205\n",
      "27 TRP135.A_PiStacking 645  | 28 ARG136.A_HBDonor 3  | 29 ARG136.A_HBAcceptor 367\n",
      "30 GLU202.A_HBDonor 1  | 31 GLU202.A_HBAcceptor 6  | 32 GLU202.A_Cationic 5\n",
      "33 Rank\t 2176  | 34 seed_total\t 2176  | 35 seed_vdw\t 2176\n",
      "36 seed_delec\t 2176  | 37 seed_elinw\t 2176  | 38 seed_resdes\t 2176\n",
      "39 seed_fragdes\t 2176  | 40 pos_id\t 2176  | 41 nha\t 2176\n",
      "42 date\t 2176  | 43 source_campaign\t 2176  | 44 can_smile\t 2176\n",
      "45 OI_avg\t 2170  | 46 OI_ref\t 2170  | 47 OI_results\t 2170\n",
      "Data set 2\n",
      "0 ILE45.A_Hydrophobic 529  | 1 GLY46.A_Hydrophobic 2072  | 2 CYS47.A_Hydrophobic 36\n",
      "3 GLY48.A_Hydrophobic 183  | 4 TYR49.A_Hydrophobic 21  | 5 LEU68.A_Hydrophobic 24\n",
      "6 GLU69.A_Hydrophobic 674  | 7 ILE70.A_Hydrophobic 2129  | 8 ARG71.A_Hydrophobic 459\n",
      "9 VAL72.A_Hydrophobic 18  | 10 ARG100.A_Hydrophobic 11  | 11 SER101.A_Hydrophobic 12\n",
      "12 ASN102.A_Hydrophobic 1009  | 13 ALA103.A_Hydrophobic 852  | 14 MET104.A_Hydrophobic 2089\n",
      "15 LYS105.A_Hydrophobic 362  | 16 PHE121.A_Hydrophobic 84  | 17 LEU122.A_Hydrophobic 22\n",
      "18 PHE123.A_Hydrophobic 258  | 19 PRO124.A_Hydrophobic 738  | 20 ASP125.A_Hydrophobic 1076\n",
      "21 PRO126.A_Hydrophobic 1953  | 22 HID127.A_Hydrophobic 973  | 23 PHE128.A_Hydrophobic 1023\n",
      "24 LYS129.A_Hydrophobic 612  | 25 LYS132.A_Hydrophobic 767  | 26 LYS134.A_Hydrophobic 850\n",
      "27 TRP135.A_Hydrophobic 1781  | 28 ARG136.A_Hydrophobic 483  | 29 ILE137.A_Hydrophobic 445\n",
      "30 THR200.A_Hydrophobic 39  | 31 GLU201.A_Hydrophobic 17  | 32 GLU202.A_Hydrophobic 97\n",
      "33 LYS205.A_Hydrophobic 1  | 34 ARG208.A_Hydrophobic 1  | 35 Rank\t 2176\n",
      "36 seed_total\t 2176  | 37 seed_vdw\t 2176  | 38 seed_delec\t 2176\n",
      "39 seed_elinw\t 2176  | 40 seed_resdes\t 2176  | 41 seed_fragdes\t 2176\n",
      "42 pos_id\t 2176  | 43 nha\t 2176  | 44 date\t 2176\n",
      "45 source_campaign\t 2176  | 46 can_smile\t 2176  | 47 OI_avg\t 2170\n",
      "48 OI_ref\t 2170  | 49 OI_results\t 2170  | \n"
     ]
    },
    {
     "data": {
      "image/png": "[encoded data removed]",
      "text/plain": [
       "<Figure size 864x864 with 2 Axes>"
      ]
     },
     "metadata": {},
     "output_type": "display_data"
    },
    {
     "data": {
      "image/png": "[encoded data removed]",
      "text/plain": [
       "<Figure size 720x360 with 1 Axes>"
      ]
     },
     "metadata": {
      "needs_background": "light"
     },
     "output_type": "display_data"
    },
    {
     "data": {
      "image/png": "[encoded data removed]",
      "text/plain": [
       "<Figure size 720x360 with 1 Axes>"
      ]
     },
     "metadata": {
      "needs_background": "light"
     },
     "output_type": "display_data"
    },
    {
     "data": {
      "image/png": "[encoded data removed]",
      "text/plain": [
       "<Figure size 720x360 with 1 Axes>"
      ]
     },
     "metadata": {
      "needs_background": "light"
     },
     "output_type": "display_data"
    }
   ],
   "source": [
    "from Doana import analysis\n",
    "pklfile = \"/tmp/test.pkl\"\n",
    "reader = analysis.PLIFRead_Dock(pklfile)\n",
    "fig, ax  = reader.Docking_prolif(sel_cols=\"top\")\n",
    "\n",
    "reader.show_cols()\n",
    "\n",
    "fig2, ax2, his_N, his_bins, hist_patches = reader.drawHist(reader.fpdata[\"seed_total\"])\n",
    "fig2, ax2, his_N, his_bins, hist_patches = reader.drawHist(reader.fpdata[\"seed_delec\"])\n",
    "fig2, ax2, his_N, his_bins, hist_patches = reader.drawHistByCol(reader.fpdata, 41)\n"
   ]
  },
  {
   "cell_type": "code",
   "execution_count": 16,
   "id": "a49d674c",
   "metadata": {
    "scrolled": true
   },
   "outputs": [
    {
     "name": "stdout",
     "output_type": "stream",
     "text": [
      "[24.43 20.34 16.21 ... 19.56 18.34 20.84]\n"
     ]
    },
    {
     "data": {
      "text/plain": [
       "(array([  3.,  18.,  85., 226., 328., 378., 410., 246., 179., 124.,  80.,\n",
       "         56.,  25.,  11.,   4.,   1.,   1.,   0.,   0.,   1.]),\n",
       " array([11.93  , 13.0855, 14.241 , 15.3965, 16.552 , 17.7075, 18.863 ,\n",
       "        20.0185, 21.174 , 22.3295, 23.485 , 24.6405, 25.796 , 26.9515,\n",
       "        28.107 , 29.2625, 30.418 , 31.5735, 32.729 , 33.8845, 35.04  ]),\n",
       " <BarContainer object of 20 artists>)"
      ]
     },
     "execution_count": 16,
     "metadata": {},
     "output_type": "execute_result"
    },
    {
     "data": {
      "image/png": "[encoded data removed]",
      "text/plain": [
       "<Figure size 432x288 with 1 Axes>"
      ]
     },
     "metadata": {
      "needs_background": "light"
     },
     "output_type": "display_data"
    }
   ],
   "source": [
    "import matplotlib.pyplot as plt; \n",
    "reader.fpdata\n",
    "plt.clf()\n",
    "# for i, row in reader.fpdata.iterrows():\n",
    "v_total = reader.fpdata[\"seed_resdes\"].to_numpy().astype(float)\n",
    "print(v_total)\n",
    "plt.hist(v_total, bins=20)\n",
    "\n",
    "# print(row)"
   ]
  },
  {
   "cell_type": "markdown",
   "id": "a5e35566",
   "metadata": {},
   "source": [
    "# Filter poses "
   ]
  },
  {
   "cell_type": "code",
   "execution_count": 20,
   "id": "12b9142c",
   "metadata": {
    "scrolled": false
   },
   "outputs": [
    {
     "name": "stdout",
     "output_type": "stream",
     "text": [
      "Hydrogen Bond Count Selector: 306 poses are kept\n",
      "Column Value Selector: 47 poses are kept\n",
      "Column Value Selector: 463 poses are kept\n",
      "Fingerprint Selector: Using and operator, the poses are kept if they have any of defined fingerprint.\n",
      "Fingerprint Selector: 68 poses are kept\n",
      "Intersection Operator: Source from 4 datasets, 4 poses are kept\n",
      "['345' '482' '506' '464']\n",
      "[[False True False False False False False False False False False False\n",
      "  False False False False False False False False False False False False\n",
      "  False False False False False False False False False True False 345\n",
      "  '-9.075' '-10.666' '-0.114' '1.592' '345' '22-09-21-00:30:50'\n",
      "  'V00196B6dm9a'\n",
      "  'O=C1N(C)C(=O)c2c(N1c1ccccc1)ncc(c2)C(=O)Nc1ccc(c(c1)C)F' 0.45 0.5 0.4]\n",
      " [False True False False False False False False False False False False\n",
      "  False False False False False False False False False False False False\n",
      "  False False False False False False False False False True True 482\n",
      "  '-9.109' '-10.174' '-0.076' '1.065' '482' '22-09-21-04:06:46'\n",
      "  'V00196B6dm9a'\n",
      "  'O=C(c1ccc2c(n1)N(C)C(=O)N(C2=O)C)Nc1ccc2c(c1)OC(O2)(C)C'\n",
      "  0.7107142857142856 0.85 0.5714285714285714]\n",
      " [False False False False False False False False False False False False\n",
      "  False False False False False False False False False False False False\n",
      "  False False False False False False False False False True True 506\n",
      "  '-9.044' '-11.159' '-0.605' '2.115' '506' '22-09-21-04:15:14'\n",
      "  'V00196B6dm9a'\n",
      "  'Fc1ccc(cc1)CCC(=O)N1CC[C@H](C1)c1ccc2c(n1)N(C)C(=O)N(C2=O)C'\n",
      "  0.6333333333333333 0.8 0.4666666666666667]\n",
      " [False True False False False False False False False False False False\n",
      "  False False False False False False False False False False False False\n",
      "  False False False False False False False False False True False 464\n",
      "  '-9.131' '-10.733' '-0.183' '1.601' '464' '22-09-21-03:33:54'\n",
      "  'V00196B6dm9a'\n",
      "  'Cc1ccc(cc1)N1C(=O)N(C)C(=O)c2c1ncc(c2)C(=O)Nc1ccc(cc1)F'\n",
      "  0.4666666666666667 0.5 0.43333333333333335]]\n",
      "var intersec:  [344, 481, 505, 463]\n"
     ]
    }
   ],
   "source": [
    "# Date selection reader.fpdata non-hydrophobic interactions, reader.fpdata2 hydrophobic interactions\n",
    "datasel = reader.fpdata\n",
    "\n",
    "# Setup the column indexes\n",
    "# score_column = len(datasel.columns)-10; \n",
    "# seed_vdw_column = len(datasel.columns)-9; \n",
    "# rank_column = len(datasel.columns)-11; \n",
    "# OI_avg_column    = len(datasel.columns)-3; \n",
    "# OI_ref_column    = len(datasel.columns)-2; \n",
    "# print(f\"Selected columns: {rank_column} {datasel.columns[rank_column][0]}, {seed_vdw_column} {datasel.columns[seed_vdw_column][0]}, {OI_ref_column} {datasel.columns[OI_ref_column][0]}\")\n",
    "\n",
    "# Apply filters \n",
    "HBstate  = reader.HBondFilter(\"ge\", 1); \n",
    "Sstate   = reader.colFilter(reader.fpdata, 36, \"lt\", -9); \n",
    "# Rstate   = reader.colFilter(reader.fpdata, rank_column, \"lt\", 1000); \n",
    "OIstate  = reader.colFilter(reader.fpdata, 44, \"gt\", 0.4); \n",
    "FPstate  = reader.FPSelectionFilter(reader.fpdata, [33], operator=\"or\"); \n",
    "\n",
    "# Combine different filters\n",
    "filters_states  = [HBstate, Sstate, OIstate, FPstate]; \n",
    "\n",
    "intersec = reader.getIntersection(*filters_states); \n",
    "posids   = reader.getPOSIDByStatus(intersec); \n",
    "reader.getPOSIDQuery(posids); \n",
    "print(posids)\n",
    "\n",
    "print(reader.fpdata.to_numpy()[intersec])\n",
    "print(\"var intersec: \", intersec)"
   ]
  },
  {
   "cell_type": "code",
   "execution_count": null,
   "id": "f4df71c9",
   "metadata": {},
   "outputs": [],
   "source": []
  }
 ],
 "metadata": {
  "kernelspec": {
   "display_name": "Python 3 (ipykernel)",
   "language": "python",
   "name": "python3"
  },
  "language_info": {
   "codemirror_mode": {
    "name": "ipython",
    "version": 3
   },
   "file_extension": ".py",
   "mimetype": "text/x-python",
   "name": "python",
   "nbconvert_exporter": "python",
   "pygments_lexer": "ipython3",
   "version": "3.7.10"
  }
 },
 "nbformat": 4,
 "nbformat_minor": 5
}
