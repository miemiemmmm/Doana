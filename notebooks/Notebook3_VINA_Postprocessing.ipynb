{
 "cells": [
  {
   "cell_type": "markdown",
   "id": "1691e611",
   "metadata": {},
   "source": [
    "# Test functions "
   ]
  },
  {
   "cell_type": "code",
   "execution_count": 26,
   "id": "77f5d852",
   "metadata": {},
   "outputs": [],
   "source": [
    "import Doana\n",
    "import json \n",
    "import os\n",
    "\n",
    "mfile = \"/home/miemie/Downloads/postprocess_vina_results/V0064GULFky4/buffered.mol2\"\n",
    "sfile = \"/home/miemie/Downloads/postprocess_vina_results/V0064GULFky4/buffered.json\"\n",
    "ofile = \"/home/miemie/Downloads/postprocess_vina_results/V0064GULFky4/buffered.dat\"\n",
    "\n",
    "def BufferedVINAResults(basepath): \n",
    "  b_path = os.path.abspath(basepath); \n",
    "  pfile = os.path.join(b_path, \"parms.json\"); \n",
    "  mfile = os.path.join(b_path, \"buffered.mol2\"); \n",
    "  sfile = os.path.join(b_path, \"buffered.json\"); \n",
    "  ofile = os.path.join(b_path, \"buffered.dat\"); \n",
    "  \n",
    "  with open(pfile, \"r\") as file1: \n",
    "    parms = json.load(file1); \n",
    "    sess_id = parms[\"session_id\"]; \n",
    "  scoreout = open(ofile, \"w\"); \n",
    "  c = 0; \n",
    "  with open(mfile, \"r\") as molfile, open(sfile, \"r\") as scorefile:\n",
    "    scores = json.load(scorefile)\n",
    "    S_total = int(scores[\"Stotal\"]);\n",
    "    for sidx in range(S_total): \n",
    "      posei = f\"pose{sidx+1}\"; \n",
    "      if posei in scores.keys():\n",
    "        c+=1; \n",
    "        thispose = scores[posei]; \n",
    "        thesmi = thispose[\"smiles\"];\n",
    "        themolname = thispose[\"molname\"];\n",
    "        thedate = thispose[\"molfinishdate\"].replace(\" \", \"-\"); \n",
    "        score1 = thispose[\"score1\"]; \n",
    "        score2 = thispose[\"score2\"]; \n",
    "        score3 = thispose[\"score3\"]; \n",
    "        score4 = thispose[\"score4\"]; \n",
    "        score5 = thispose[\"score5\"]; \n",
    "        scorestr = f\"{score1} {score2} {score3} {score4} {score5}\"; \n",
    "        scoreout.write(f\"{c} {themolname} {thesmi} {scorestr} {sess_id} {thedate}\\n\"); \n",
    "      else: \n",
    "        print(f\"Not found pose: {posei}\"); \n",
    "  scoreout.close()\n",
    "  \n",
    "BufferedVINAResults(\"/home/miemie/Downloads/postprocess_vina_results/V0064GULFky4/\")"
   ]
  },
  {
   "cell_type": "code",
   "execution_count": null,
   "id": "893f005a",
   "metadata": {},
   "outputs": [],
   "source": []
  },
  {
   "cell_type": "code",
   "execution_count": null,
   "id": "d18374a2",
   "metadata": {},
   "outputs": [],
   "source": []
  },
  {
   "cell_type": "code",
   "execution_count": null,
   "id": "a33ca92f",
   "metadata": {},
   "outputs": [],
   "source": []
  }
 ],
 "metadata": {
  "kernelspec": {
   "display_name": "Python 3 (ipykernel)",
   "language": "python",
   "name": "python3"
  },
  "language_info": {
   "codemirror_mode": {
    "name": "ipython",
    "version": 3
   },
   "file_extension": ".py",
   "mimetype": "text/x-python",
   "name": "python",
   "nbconvert_exporter": "python",
   "pygments_lexer": "ipython3",
   "version": "3.7.10"
  }
 },
 "nbformat": 4,
 "nbformat_minor": 5
}
