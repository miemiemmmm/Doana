{
 "cells": [
  {
   "cell_type": "code",
   "execution_count": 1,
   "id": "e67f46a2",
   "metadata": {},
   "outputs": [
    {
     "name": "stderr",
     "output_type": "stream",
     "text": [
      "/home/miemie/miniconda3/envs/prolif/lib/python3.7/site-packages/MDAnalysis/coordinates/chemfiles.py:108: DeprecationWarning: distutils Version classes are deprecated. Use packaging.version instead.\n",
      "  MIN_CHEMFILES_VERSION = LooseVersion(\"0.9\")\n"
     ]
    },
    {
     "data": {
      "text/html": [
       "<div>\n",
       "<style scoped>\n",
       "    .dataframe tbody tr th:only-of-type {\n",
       "        vertical-align: middle;\n",
       "    }\n",
       "\n",
       "    .dataframe tbody tr th {\n",
       "        vertical-align: top;\n",
       "    }\n",
       "\n",
       "    .dataframe thead th {\n",
       "        text-align: right;\n",
       "    }\n",
       "</style>\n",
       "<table border=\"1\" class=\"dataframe\">\n",
       "  <thead>\n",
       "    <tr style=\"text-align: right;\">\n",
       "      <th></th>\n",
       "      <th>index</th>\n",
       "      <th>can_smile</th>\n",
       "      <th>mcule_smile</th>\n",
       "      <th>mcule_found</th>\n",
       "      <th>mcule_id</th>\n",
       "      <th>mcule_url</th>\n",
       "      <th>mcule_price</th>\n",
       "      <th>cs_price</th>\n",
       "      <th>cs_smile</th>\n",
       "      <th>cs_found</th>\n",
       "      <th>cs_id</th>\n",
       "      <th>cs_url</th>\n",
       "    </tr>\n",
       "  </thead>\n",
       "  <tbody>\n",
       "    <tr>\n",
       "      <th>0</th>\n",
       "      <td>0</td>\n",
       "      <td>N#Cc1c(CC)[nH]nc1c1ccco1</td>\n",
       "      <td>C1(C#N)=C(CC)NN=C1C1=CC=CO1</td>\n",
       "      <td>Found</td>\n",
       "      <td>MCULE-4780066596</td>\n",
       "      <td>https://mcule.com/MCULE-4780066596/</td>\n",
       "      <td>Supplier MCULE: 538 USD-1 mg-37days_538 USD-5 ...</td>\n",
       "      <td>Enamine MADE BBs: 1 g-POAUSD</td>\n",
       "      <td>CCC1=C(C#N)C(=NN1)C1=CC=CO1</td>\n",
       "      <td>Found</td>\n",
       "      <td>CSCS00029816393</td>\n",
       "      <td>https://chem-space.com/CSCS00029816393-8CB05C</td>\n",
       "    </tr>\n",
       "  </tbody>\n",
       "</table>\n",
       "</div>"
      ],
      "text/plain": [
       "   index                 can_smile                  mcule_smile mcule_found  \\\n",
       "0      0  N#Cc1c(CC)[nH]nc1c1ccco1  C1(C#N)=C(CC)NN=C1C1=CC=CO1       Found   \n",
       "\n",
       "           mcule_id                            mcule_url  \\\n",
       "0  MCULE-4780066596  https://mcule.com/MCULE-4780066596/   \n",
       "\n",
       "                                         mcule_price  \\\n",
       "0  Supplier MCULE: 538 USD-1 mg-37days_538 USD-5 ...   \n",
       "\n",
       "                       cs_price                     cs_smile cs_found  \\\n",
       "0  Enamine MADE BBs: 1 g-POAUSD  CCC1=C(C#N)C(=NN1)C1=CC=CO1    Found   \n",
       "\n",
       "             cs_id                                         cs_url  \n",
       "0  CSCS00029816393  https://chem-space.com/CSCS00029816393-8CB05C  "
      ]
     },
     "execution_count": 1,
     "metadata": {},
     "output_type": "execute_result"
    }
   ],
   "source": [
    "import Doana as da\n",
    "\n",
    "comps = [\"N#Cc1c(CC)[nH]nc1c1ccco1\"]\n",
    "querier = da.prices.MolQuerier()\n",
    "querier.__MCULE_TOKEN = \"cd69ac4c24f\";\n",
    "querier.querymols(comps)\n",
    "\n",
    "querier.pricetable"
   ]
  },
  {
   "cell_type": "code",
   "execution_count": null,
   "id": "0f55e5bf",
   "metadata": {},
   "outputs": [],
   "source": []
  },
  {
   "cell_type": "code",
   "execution_count": null,
   "id": "b3fbb20d",
   "metadata": {},
   "outputs": [],
   "source": []
  },
  {
   "cell_type": "code",
   "execution_count": null,
   "id": "4da4f3ce",
   "metadata": {},
   "outputs": [],
   "source": []
  },
  {
   "cell_type": "code",
   "execution_count": null,
   "id": "e07880e6",
   "metadata": {},
   "outputs": [],
   "source": []
  },
  {
   "cell_type": "code",
   "execution_count": null,
   "id": "4a2fba95",
   "metadata": {},
   "outputs": [],
   "source": []
  }
 ],
 "metadata": {
  "kernelspec": {
   "display_name": "Python 3",
   "language": "python",
   "name": "python3"
  },
  "language_info": {
   "codemirror_mode": {
    "name": "ipython",
    "version": 3
   },
   "file_extension": ".py",
   "mimetype": "text/x-python",
   "name": "python",
   "nbconvert_exporter": "python",
   "pygments_lexer": "ipython3",
   "version": "3.7.10"
  }
 },
 "nbformat": 4,
 "nbformat_minor": 5
}
