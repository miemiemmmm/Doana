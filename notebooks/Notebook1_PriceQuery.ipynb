{
 "cells": [
  {
   "cell_type": "code",
   "execution_count": 7,
   "id": "d800872b",
   "metadata": {},
   "outputs": [
    {
     "data": {
      "text/plain": [
       "'Supplier MCULE: 538 USD-1 mg-37days_538 USD-5 mg-37days_538 USD-10 mg-37days'"
      ]
     },
     "execution_count": 7,
     "metadata": {},
     "output_type": "execute_result"
    }
   ],
   "source": [
    "import Doana as da\n",
    "\n",
    "comps = [\"N#Cc1c(CC)[nH]nc1c1ccco1\"]\n",
    "querier = da.prices.MolQuerier()\n",
    "\n",
    "querier.__MCULE_TOKEN = \"Example_MCULETOKEN\";\n",
    "\n",
    "querier.querymols(comps)\n",
    "querier.pricetable.mcule_price.item()"
   ]
  },
  {
   "cell_type": "code",
   "execution_count": null,
   "id": "1025613a",
   "metadata": {},
   "outputs": [],
   "source": []
  },
  {
   "cell_type": "code",
   "execution_count": null,
   "id": "5eff3e5d",
   "metadata": {},
   "outputs": [],
   "source": []
  },
  {
   "cell_type": "code",
   "execution_count": null,
   "id": "444f385b",
   "metadata": {},
   "outputs": [],
   "source": []
  },
  {
   "cell_type": "code",
   "execution_count": null,
   "id": "5ba64d08",
   "metadata": {},
   "outputs": [],
   "source": []
  },
  {
   "cell_type": "code",
   "execution_count": null,
   "id": "3dab2b05",
   "metadata": {},
   "outputs": [],
   "source": []
  }
 ],
 "metadata": {
  "kernelspec": {
   "display_name": "Python 3",
   "language": "python",
   "name": "python3"
  },
  "language_info": {
   "codemirror_mode": {
    "name": "ipython",
    "version": 3
   },
   "file_extension": ".py",
   "mimetype": "text/x-python",
   "name": "python",
   "nbconvert_exporter": "python",
   "pygments_lexer": "ipython3",
   "version": "3.7.10"
  }
 },
 "nbformat": 4,
 "nbformat_minor": 5
}
